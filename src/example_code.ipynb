{
 "cells": [
  {
   "cell_type": "code",
   "execution_count": null,
   "id": "657f4280-f041-4afa-9ff7-b71b3eea5365",
   "metadata": {},
   "outputs": [],
   "source": [
    "%pip install scikit-learn"
   ]
  },
  {
   "cell_type": "code",
   "execution_count": null,
   "id": "2b325290-9a60-48d7-af8d-20cc3f8589da",
   "metadata": {},
   "outputs": [],
   "source": [
    "from sklearn.datasets import fetch_20newsgroups\n",
    "from sklearn.feature_extraction.text import CountVectorizer\n",
    "from sklearn.linear_model import LogisticRegression\n",
    "from sklearn.metrics import accuracy_score"
   ]
  },
  {
   "cell_type": "code",
   "execution_count": null,
   "id": "04c44b21-a34e-4265-b5a4-be989b78f305",
   "metadata": {},
   "outputs": [],
   "source": [
    "X_train, y_train = fetch_20newsgroups(subset='train', return_X_y=True)\n",
    "X_test, y_test = fetch_20newsgroups(subset='test', return_X_y=True)"
   ]
  },
  {
   "cell_type": "code",
   "execution_count": null,
   "id": "0de557ef-f059-452b-82aa-9a7b109b3096",
   "metadata": {},
   "outputs": [],
   "source": [
    "vectorizer = CountVectorizer(binary=True)\n",
    "X_train_bow = vectorizer.fit_transform(X_train)\n",
    "X_test_bow = vectorizer.transform(X_test)"
   ]
  },
  {
   "cell_type": "code",
   "execution_count": null,
   "id": "261d134e-fe48-4f90-b186-3c6fa718fc85",
   "metadata": {},
   "outputs": [],
   "source": [
    "classifier = LogisticRegression(C=100)\n",
    "classifier.fit(X_train_bow, y_train)"
   ]
  },
  {
   "cell_type": "code",
   "execution_count": null,
   "id": "48862ec8-5be8-4ad3-bad3-9a251ee55065",
   "metadata": {},
   "outputs": [],
   "source": [
    "y_pred = classifier.predict(X_test_bow)"
   ]
  },
  {
   "cell_type": "code",
   "execution_count": null,
   "id": "bbc753db-980f-4911-b61f-623531484fe5",
   "metadata": {},
   "outputs": [],
   "source": [
    "accuracy_score(y_test, y_pred)"
   ]
  },
  {
   "cell_type": "code",
   "execution_count": null,
   "id": "97d2c37b-0c43-4cd8-b95d-5789b443ae82",
   "metadata": {},
   "outputs": [],
   "source": [
    "def experiment():\n",
    "    txt_train = fetch_20newsgroups(subset='train')\n",
    "    txt_test = fetch_20newsgroups(subset='test')\n",
    "\n",
    "    vectorizer = CountVectorizer(binary=True)\n",
    "    X_train = vectorizer.fit_transform(txt_train.data)\n",
    "    X_test = vectorizer.transform(txt_test.data)\n",
    "\n",
    "    classifier = LogisticRegression(C=1)\n",
    "    classifier.fit(X_train, txt_train.target)\n",
    "    y_pred = classifier.predict(X_test)\n",
    "\n",
    "    return accuracy_score(txt_test.target, y_pred)\n",
    "\n",
    "experiment()"
   ]
  },
  {
   "cell_type": "code",
   "execution_count": null,
   "id": "a540059d-d65d-43cf-975c-afb5af86fff6",
   "metadata": {},
   "outputs": [],
   "source": []
  }
 ],
 "metadata": {
  "kernelspec": {
   "display_name": "Python 3 (ipykernel)",
   "language": "python",
   "name": "python3"
  },
  "language_info": {
   "codemirror_mode": {
    "name": "ipython",
    "version": 3
   },
   "file_extension": ".py",
   "mimetype": "text/x-python",
   "name": "python",
   "nbconvert_exporter": "python",
   "pygments_lexer": "ipython3",
   "version": "3.10.12"
  }
 },
 "nbformat": 4,
 "nbformat_minor": 5
}
