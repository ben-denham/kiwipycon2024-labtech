{
 "cells": [
  {
   "cell_type": "code",
   "execution_count": null,
   "id": "1de6d9ec-a7e8-4b08-8e81-755b597a0293",
   "metadata": {},
   "outputs": [],
   "source": [
    "%pip install labtech"
   ]
  },
  {
   "cell_type": "code",
   "execution_count": null,
   "id": "d0bcdf88-a746-4f29-9319-3f5c3f610567",
   "metadata": {},
   "outputs": [],
   "source": [
    "import labtech as lt\n",
    "from sklearn.datasets import fetch_20newsgroups\n",
    "from sklearn.feature_extraction.text import CountVectorizer\n",
    "from sklearn.ensemble import RandomForestClassifier\n",
    "from sklearn.metrics import accuracy_score"
   ]
  },
  {
   "cell_type": "code",
   "execution_count": null,
   "id": "79befedb-9030-4ca3-8dce-5df003833a0d",
   "metadata": {},
   "outputs": [],
   "source": [
    "@lt.task\n",
    "class BowTask:\n",
    "\n",
    "    def run(self):\n",
    "        txt_train = fetch_20newsgroups(subset='train')\n",
    "        txt_test = fetch_20newsgroups(subset='test')\n",
    "    \n",
    "        vectorizer = CountVectorizer(binary=True)\n",
    "        bow_train = vectorizer.fit_transform(txt_train.data)\n",
    "        bow_test = vectorizer.transform(txt_test.data)\n",
    "        return (bow_train, bow_test, txt_train.target, txt_test.target)\n",
    "\n",
    "@lt.task\n",
    "class ClassificationTask:\n",
    "    data_task: BowTask\n",
    "    leaf_max: int\n",
    "\n",
    "    def run(self):\n",
    "        bow_train, bow_test, target_train, target_test = self.data_task.result\n",
    "        classifier = RandomForestClassifier(max_leaf_nodes=self.leaf_max, random_state=1)\n",
    "        classifier.fit(bow_train, target_train)\n",
    "        target_pred = classifier.predict(bow_test)\n",
    "        return accuracy_score(target_test, target_pred)"
   ]
  },
  {
   "cell_type": "code",
   "execution_count": null,
   "id": "a38cd5eb-cb34-4b23-ac1c-50d2f6e9809c",
   "metadata": {},
   "outputs": [],
   "source": [
    "experiments = [\n",
    "    ClassificationTask(\n",
    "        data_task=BowTask(),\n",
    "        leaf_max=leaf_max,\n",
    "    )\n",
    "    for leaf_max in [10, 50, 90]\n",
    "]\n",
    "lab = lt.Lab(storage=None)\n",
    "results = lab.run_tasks(experiments)\n",
    "results"
   ]
  }
 ],
 "metadata": {
  "kernelspec": {
   "display_name": "Python 3 (ipykernel)",
   "language": "python",
   "name": "python3"
  },
  "language_info": {
   "codemirror_mode": {
    "name": "ipython",
    "version": 3
   },
   "file_extension": ".py",
   "mimetype": "text/x-python",
   "name": "python",
   "nbconvert_exporter": "python",
   "pygments_lexer": "ipython3",
   "version": "3.10.12"
  }
 },
 "nbformat": 4,
 "nbformat_minor": 5
}
