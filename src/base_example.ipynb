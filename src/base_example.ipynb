{
 "cells": [
  {
   "cell_type": "code",
   "execution_count": null,
   "id": "657f4280-f041-4afa-9ff7-b71b3eea5365",
   "metadata": {},
   "outputs": [],
   "source": [
    "%pip install scikit-learn"
   ]
  },
  {
   "cell_type": "code",
   "execution_count": null,
   "id": "2b325290-9a60-48d7-af8d-20cc3f8589da",
   "metadata": {},
   "outputs": [],
   "source": [
    "from sklearn.datasets import fetch_20newsgroups\n",
    "from sklearn.feature_extraction.text import CountVectorizer\n",
    "from sklearn.ensemble import RandomForestClassifier\n",
    "from sklearn.metrics import accuracy_score"
   ]
  },
  {
   "cell_type": "code",
   "execution_count": null,
   "id": "97d2c37b-0c43-4cd8-b95d-5789b443ae82",
   "metadata": {},
   "outputs": [],
   "source": [
    "def experiment(leaf_max: int):\n",
    "    # Load train and test datasets\n",
    "    txt_train = fetch_20newsgroups(subset='train')\n",
    "    txt_test = fetch_20newsgroups(subset='test')\n",
    "\n",
    "    # Transform text into \"bag-of-words\" (BoW)\n",
    "    vectorizer = CountVectorizer(binary=True)\n",
    "    bow_train = vectorizer.fit_transform(txt_train.data)\n",
    "    bow_test = vectorizer.transform(txt_test.data)\n",
    "\n",
    "    # Train classifier to predict target labels from BoW\n",
    "    classifier = RandomForestClassifier(max_leaf_nodes=leaf_max, random_state=1)\n",
    "    classifier.fit(bow_train, txt_train.target)\n",
    "    target_pred = classifier.predict(bow_test)\n",
    "\n",
    "    # Evaluate classifier accuracy\n",
    "    return accuracy_score(txt_test.target, target_pred)\n",
    "\n",
    "experiment(leaf_max=1000)"
   ]
  },
  {
   "cell_type": "code",
   "execution_count": null,
   "id": "ed33caf4-5aa4-4b4a-96d1-3bb6661e6660",
   "metadata": {},
   "outputs": [],
   "source": []
  }
 ],
 "metadata": {
  "kernelspec": {
   "display_name": "Python 3 (ipykernel)",
   "language": "python",
   "name": "python3"
  },
  "language_info": {
   "codemirror_mode": {
    "name": "ipython",
    "version": 3
   },
   "file_extension": ".py",
   "mimetype": "text/x-python",
   "name": "python",
   "nbconvert_exporter": "python",
   "pygments_lexer": "ipython3",
   "version": "3.10.12"
  }
 },
 "nbformat": 4,
 "nbformat_minor": 5
}
