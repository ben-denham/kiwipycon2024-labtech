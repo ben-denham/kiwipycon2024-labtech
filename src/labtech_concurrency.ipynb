{
 "cells": [
  {
   "cell_type": "code",
   "execution_count": null,
   "id": "8e07ca71-ed92-49bb-9440-bfcfc53d90e6",
   "metadata": {},
   "outputs": [],
   "source": [
    "%pip install labtech"
   ]
  },
  {
   "cell_type": "code",
   "execution_count": null,
   "id": "2ff3dccc-3ea5-4b6a-a0df-ee47785bb947",
   "metadata": {},
   "outputs": [],
   "source": [
    "import labtech as lt\n",
    "from sklearn.datasets import fetch_20newsgroups\n",
    "from sklearn.feature_extraction.text import CountVectorizer\n",
    "from sklearn.ensemble import RandomForestClassifier\n",
    "from sklearn.metrics import accuracy_score"
   ]
  },
  {
   "cell_type": "code",
   "execution_count": null,
   "id": "64d6ea53-df5f-436a-9f7f-363e2d4e3c98",
   "metadata": {},
   "outputs": [],
   "source": [
    "def experiment(leaf_max: int):\n",
    "    # Load train and test datasets\n",
    "    txt_train = fetch_20newsgroups(subset='train')\n",
    "    txt_test = fetch_20newsgroups(subset='test')\n",
    "\n",
    "    # Transform text into \"bag-of-words\" (BoW)\n",
    "    vectorizer = CountVectorizer(binary=True)\n",
    "    bow_train = vectorizer.fit_transform(txt_train.data)\n",
    "    bow_test = vectorizer.transform(txt_test.data)\n",
    "\n",
    "    # Train classifier to predict target labels from BoW\n",
    "    classifier = RandomForestClassifier(max_leaf_nodes=leaf_max, random_state=1)\n",
    "    classifier.fit(bow_train, txt_train.target)\n",
    "    target_pred = classifier.predict(bow_test)\n",
    "\n",
    "    # Evaluate classifier accuracy\n",
    "    return accuracy_score(txt_test.target, target_pred)"
   ]
  },
  {
   "cell_type": "code",
   "execution_count": null,
   "id": "e00e3b2d-ca8d-4d4d-8c8b-accef5da046e",
   "metadata": {},
   "outputs": [],
   "source": [
    "@lt.task\n",
    "class Experiment:\n",
    "    leaf_max: int\n",
    " \n",
    "    def run(self):\n",
    "        return experiment(leaf_max=self.leaf_max)\n",
    " \n",
    "experiments = [Experiment(leaf_max=leaf_max) for leaf_max in [10, 50, 90]]\n",
    " \n",
    "lab = lt.Lab(storage=None, max_workers=3)\n",
    "results = lab.run_tasks(experiments)\n",
    "results"
   ]
  }
 ],
 "metadata": {
  "kernelspec": {
   "display_name": "Python 3 (ipykernel)",
   "language": "python",
   "name": "python3"
  },
  "language_info": {
   "codemirror_mode": {
    "name": "ipython",
    "version": 3
   },
   "file_extension": ".py",
   "mimetype": "text/x-python",
   "name": "python",
   "nbconvert_exporter": "python",
   "pygments_lexer": "ipython3",
   "version": "3.10.12"
  }
 },
 "nbformat": 4,
 "nbformat_minor": 5
}
