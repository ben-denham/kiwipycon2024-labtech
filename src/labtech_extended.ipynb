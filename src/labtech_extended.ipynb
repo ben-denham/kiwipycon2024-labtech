{
 "cells": [
  {
   "cell_type": "code",
   "execution_count": null,
   "id": "1de6d9ec-a7e8-4b08-8e81-755b597a0293",
   "metadata": {},
   "outputs": [],
   "source": [
    "%pip install labtech"
   ]
  },
  {
   "cell_type": "code",
   "execution_count": null,
   "id": "d0bcdf88-a746-4f29-9319-3f5c3f610567",
   "metadata": {},
   "outputs": [],
   "source": [
    "import labtech as lt\n",
    "from sklearn.base import clone\n",
    "from sklearn.datasets import fetch_20newsgroups\n",
    "from sklearn.feature_extraction.text import CountVectorizer\n",
    "from sklearn.ensemble import RandomForestClassifier\n",
    "from sklearn.naive_bayes import ComplementNB\n",
    "from sklearn.metrics import accuracy_score"
   ]
  },
  {
   "cell_type": "code",
   "execution_count": null,
   "id": "79befedb-9030-4ca3-8dce-5df003833a0d",
   "metadata": {},
   "outputs": [],
   "source": [
    "class ClassifierTask:\n",
    "    pass\n",
    "\n",
    "@lt.task\n",
    "class RandomForestClassifierTask:\n",
    "    leaf_max: int\n",
    "\n",
    "    def run(self):\n",
    "        return RandomForestClassifier(max_leaf_nodes=self.leaf_max, random_state=1)\n",
    "\n",
    "@lt.task\n",
    "class NaiveBayesTask:\n",
    "    alpha: float\n",
    "\n",
    "    def run(self):\n",
    "        return ComplementNB()\n",
    "\n",
    "class DataTask:\n",
    "    pass\n",
    "\n",
    "@lt.task\n",
    "class BowTask(DataTask):\n",
    "\n",
    "    def run(self):\n",
    "        txt_train = fetch_20newsgroups(subset='train')\n",
    "        txt_test = fetch_20newsgroups(subset='test')\n",
    "    \n",
    "        vectorizer = CountVectorizer(binary=True)\n",
    "        bow_train = vectorizer.fit_transform(txt_train.data)\n",
    "        bow_test = vectorizer.transform(txt_test.data)\n",
    "        return (bow_train, bow_test, txt_train.target, txt_test.target)\n",
    "\n",
    "@lt.task\n",
    "class EmbeddingsTask(DataTask):\n",
    "\n",
    "    def run(self):\n",
    "        txt_train = fetch_20newsgroups(subset='train')\n",
    "        txt_test = fetch_20newsgroups(subset='test')\n",
    "    \n",
    "        vectorizer = CountVectorizer(binary=True)\n",
    "        bow_train = vectorizer.fit_transform(txt_train.data)\n",
    "        bow_test = vectorizer.transform(txt_test.data)\n",
    "        return (bow_train, bow_test, txt_train.target, txt_test.target)\n",
    "\n",
    "@lt.task\n",
    "class ClassificationTask:\n",
    "    data_task: DataTask\n",
    "    classifier_task: ClassifierTask\n",
    "\n",
    "    def run(self):\n",
    "        bow_train, bow_test, target_train, target_test = self.data_task.result\n",
    "        classifier = clone(self.classifier_task.result)\n",
    "        classifier.fit(bow_train, target_train)\n",
    "        target_pred = classifier.predict(bow_test)\n",
    "        return (target_pred, target_test)\n",
    "\n",
    "@lt.task\n",
    "class EvaluationTask:\n",
    "    classification_task: ClassificationTask\n",
    "\n",
    "    def run(self):\n",
    "        target_pred, target_test = self.classification_task.result\n",
    "        return accuracy_score(target_test, target_pred)"
   ]
  },
  {
   "cell_type": "code",
   "execution_count": null,
   "id": "a38cd5eb-cb34-4b23-ac1c-50d2f6e9809c",
   "metadata": {},
   "outputs": [],
   "source": [
    "data_tasks = [\n",
    "    BowTask(),\n",
    "    EmbeddingsTask(),\n",
    "]\n",
    "\n",
    "classifier_tasks = [\n",
    "    *[\n",
    "        RandomForestClassifierTask(leaf_max=leaf_max)\n",
    "        for leaf_max in [10, 50, 90]\n",
    "    ],\n",
    "    NaiveBayesTask(),\n",
    "]\n",
    "\n",
    "experiments = [\n",
    "    EvaluationTask(\n",
    "        classification_task=ClassificationTask(\n",
    "            data_task=data_task,\n",
    "            classifier_task=classifier_task,\n",
    "        ),\n",
    "    )\n",
    "    for data_task in data_tasks\n",
    "    for classifier_task in classifier_tasks\n",
    "]"
   ]
  },
  {
   "cell_type": "code",
   "execution_count": null,
   "id": "61b1da50-402e-4132-84fe-89024c1fb275",
   "metadata": {},
   "outputs": [],
   "source": [
    "from labtech.diagram import display_task_diagram\n",
    "\n",
    "display_task_diagram(experiments)"
   ]
  },
  {
   "cell_type": "code",
   "execution_count": null,
   "id": "f375c24e-9590-45a9-81f7-ab25245b3535",
   "metadata": {},
   "outputs": [],
   "source": [
    "lab = lt.Lab(storage=None)\n",
    "results = lab.run_tasks(experiments)\n",
    "results"
   ]
  },
  {
   "cell_type": "code",
   "execution_count": null,
   "id": "8ba0bc8e-81c5-424c-9b19-75f72c841830",
   "metadata": {},
   "outputs": [],
   "source": []
  }
 ],
 "metadata": {
  "kernelspec": {
   "display_name": "Python 3 (ipykernel)",
   "language": "python",
   "name": "python3"
  },
  "language_info": {
   "codemirror_mode": {
    "name": "ipython",
    "version": 3
   },
   "file_extension": ".py",
   "mimetype": "text/x-python",
   "name": "python",
   "nbconvert_exporter": "python",
   "pygments_lexer": "ipython3",
   "version": "3.10.12"
  }
 },
 "nbformat": 4,
 "nbformat_minor": 5
}
